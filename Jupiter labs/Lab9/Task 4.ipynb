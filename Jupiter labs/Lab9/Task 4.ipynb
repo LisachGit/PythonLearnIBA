{
  "metadata": {
    "kernelspec": {
      "name": "python",
      "display_name": "Python (Pyodide)",
      "language": "python"
    },
    "language_info": {
      "codemirror_mode": {
        "name": "python",
        "version": 3
      },
      "file_extension": ".py",
      "mimetype": "text/x-python",
      "name": "python",
      "nbconvert_exporter": "python",
      "pygments_lexer": "ipython3",
      "version": "3.8"
    }
  },
  "nbformat_minor": 4,
  "nbformat": 4,
  "cells": [
    {
      "cell_type": "markdown",
      "source": "**1. Имеются следующие данные о транзакциях в период с 01.12.2010 по 12.09.2011:**\n\n* InvoiceNo — номер транзакции\n* StockCode — код товара\n* Description — описание товара\n* Quantity — количество единиц товара, добавленных в заказ\n* InvoiceDate — дата транзакции \n* UnitPrice — цена за единицу товара\n* CustomerID — id клиента\n* Country — страна, где проживает клиент\n\n**В данной задаче ссылка для считывания данных лежит в переменной path_to_file.\nИмпортируйте пандас и прочитайте данные с кодировкой ISO-8859-1. Запишите полученный датафрейм в retail, а названия колонок сохраните в переменную retail_columns.**",
      "metadata": {}
    },
    {
      "cell_type": "code",
      "source": "import pandas as pd\n\nretail = pd.read_csv('data.csv', encoding='ISO-8859-1')\n\nretail_columns = retail.columns\nretail_columns",
      "metadata": {
        "ExecuteTime": {
          "end_time": "2025-05-18T18:11:23.654236Z",
          "start_time": "2025-05-18T18:11:23.179465Z"
        },
        "trusted": true
      },
      "outputs": [
        {
          "execution_count": 2,
          "output_type": "execute_result",
          "data": {
            "text/plain": "Index(['InvoiceNo', 'StockCode', 'Description', 'Quantity', 'InvoiceDate',\n       'UnitPrice', 'CustomerID', 'Country'],\n      dtype='object')"
          },
          "metadata": {}
        }
      ],
      "execution_count": 2
    },
    {
      "cell_type": "markdown",
      "source": "**2. Проверьте, встречаются ли в данных повторяющиеся наблюдения, и в качестве ответа укажите их количество. Если они есть, то удалите их из retail.**\n\nВам понадобится len(название_колонки) и drop_duplicates()",
      "metadata": {}
    },
    {
      "cell_type": "code",
      "source": "# Проверка количества дубликатов (строк, полностью повторяющих другие)\nduplicate_count = retail.duplicated().sum()\n# Удаление дубликатов (если они есть)\nif duplicate_count > 0:\n    retail = retail.drop_duplicates()\nretail",
      "metadata": {
        "ExecuteTime": {
          "end_time": "2025-05-18T17:34:21.002255Z",
          "start_time": "2025-05-18T17:34:20.752492Z"
        }
      },
      "outputs": [
        {
          "data": {
            "text/plain": [
              "       InvoiceNo StockCode                          Description  Quantity  \\\n",
              "0         536365    85123A   WHITE HANGING HEART T-LIGHT HOLDER         6   \n",
              "1         536365     71053                  WHITE METAL LANTERN         6   \n",
              "2         536365    84406B       CREAM CUPID HEARTS COAT HANGER         8   \n",
              "3         536365    84029G  KNITTED UNION FLAG HOT WATER BOTTLE         6   \n",
              "4         536365    84029E       RED WOOLLY HOTTIE WHITE HEART.         6   \n",
              "...          ...       ...                                  ...       ...   \n",
              "541904    581587     22613          PACK OF 20 SPACEBOY NAPKINS        12   \n",
              "541905    581587     22899         CHILDREN'S APRON DOLLY GIRL          6   \n",
              "541906    581587     23254        CHILDRENS CUTLERY DOLLY GIRL          4   \n",
              "541907    581587     23255      CHILDRENS CUTLERY CIRCUS PARADE         4   \n",
              "541908    581587     22138        BAKING SET 9 PIECE RETROSPOT          3   \n",
              "\n",
              "            InvoiceDate  UnitPrice  CustomerID         Country  \n",
              "0        12/1/2010 8:26       2.55     17850.0  United Kingdom  \n",
              "1        12/1/2010 8:26       3.39     17850.0  United Kingdom  \n",
              "2        12/1/2010 8:26       2.75     17850.0  United Kingdom  \n",
              "3        12/1/2010 8:26       3.39     17850.0  United Kingdom  \n",
              "4        12/1/2010 8:26       3.39     17850.0  United Kingdom  \n",
              "...                 ...        ...         ...             ...  \n",
              "541904  12/9/2011 12:50       0.85     12680.0          France  \n",
              "541905  12/9/2011 12:50       2.10     12680.0          France  \n",
              "541906  12/9/2011 12:50       4.15     12680.0          France  \n",
              "541907  12/9/2011 12:50       4.15     12680.0          France  \n",
              "541908  12/9/2011 12:50       4.95     12680.0          France  \n",
              "\n",
              "[536641 rows x 8 columns]"
            ],
            "text/html": [
              "<div>\n",
              "<style scoped>\n",
              "    .dataframe tbody tr th:only-of-type {\n",
              "        vertical-align: middle;\n",
              "    }\n",
              "\n",
              "    .dataframe tbody tr th {\n",
              "        vertical-align: top;\n",
              "    }\n",
              "\n",
              "    .dataframe thead th {\n",
              "        text-align: right;\n",
              "    }\n",
              "</style>\n",
              "<table border=\"1\" class=\"dataframe\">\n",
              "  <thead>\n",
              "    <tr style=\"text-align: right;\">\n",
              "      <th></th>\n",
              "      <th>InvoiceNo</th>\n",
              "      <th>StockCode</th>\n",
              "      <th>Description</th>\n",
              "      <th>Quantity</th>\n",
              "      <th>InvoiceDate</th>\n",
              "      <th>UnitPrice</th>\n",
              "      <th>CustomerID</th>\n",
              "      <th>Country</th>\n",
              "    </tr>\n",
              "  </thead>\n",
              "  <tbody>\n",
              "    <tr>\n",
              "      <th>0</th>\n",
              "      <td>536365</td>\n",
              "      <td>85123A</td>\n",
              "      <td>WHITE HANGING HEART T-LIGHT HOLDER</td>\n",
              "      <td>6</td>\n",
              "      <td>12/1/2010 8:26</td>\n",
              "      <td>2.55</td>\n",
              "      <td>17850.0</td>\n",
              "      <td>United Kingdom</td>\n",
              "    </tr>\n",
              "    <tr>\n",
              "      <th>1</th>\n",
              "      <td>536365</td>\n",
              "      <td>71053</td>\n",
              "      <td>WHITE METAL LANTERN</td>\n",
              "      <td>6</td>\n",
              "      <td>12/1/2010 8:26</td>\n",
              "      <td>3.39</td>\n",
              "      <td>17850.0</td>\n",
              "      <td>United Kingdom</td>\n",
              "    </tr>\n",
              "    <tr>\n",
              "      <th>2</th>\n",
              "      <td>536365</td>\n",
              "      <td>84406B</td>\n",
              "      <td>CREAM CUPID HEARTS COAT HANGER</td>\n",
              "      <td>8</td>\n",
              "      <td>12/1/2010 8:26</td>\n",
              "      <td>2.75</td>\n",
              "      <td>17850.0</td>\n",
              "      <td>United Kingdom</td>\n",
              "    </tr>\n",
              "    <tr>\n",
              "      <th>3</th>\n",
              "      <td>536365</td>\n",
              "      <td>84029G</td>\n",
              "      <td>KNITTED UNION FLAG HOT WATER BOTTLE</td>\n",
              "      <td>6</td>\n",
              "      <td>12/1/2010 8:26</td>\n",
              "      <td>3.39</td>\n",
              "      <td>17850.0</td>\n",
              "      <td>United Kingdom</td>\n",
              "    </tr>\n",
              "    <tr>\n",
              "      <th>4</th>\n",
              "      <td>536365</td>\n",
              "      <td>84029E</td>\n",
              "      <td>RED WOOLLY HOTTIE WHITE HEART.</td>\n",
              "      <td>6</td>\n",
              "      <td>12/1/2010 8:26</td>\n",
              "      <td>3.39</td>\n",
              "      <td>17850.0</td>\n",
              "      <td>United Kingdom</td>\n",
              "    </tr>\n",
              "    <tr>\n",
              "      <th>...</th>\n",
              "      <td>...</td>\n",
              "      <td>...</td>\n",
              "      <td>...</td>\n",
              "      <td>...</td>\n",
              "      <td>...</td>\n",
              "      <td>...</td>\n",
              "      <td>...</td>\n",
              "      <td>...</td>\n",
              "    </tr>\n",
              "    <tr>\n",
              "      <th>541904</th>\n",
              "      <td>581587</td>\n",
              "      <td>22613</td>\n",
              "      <td>PACK OF 20 SPACEBOY NAPKINS</td>\n",
              "      <td>12</td>\n",
              "      <td>12/9/2011 12:50</td>\n",
              "      <td>0.85</td>\n",
              "      <td>12680.0</td>\n",
              "      <td>France</td>\n",
              "    </tr>\n",
              "    <tr>\n",
              "      <th>541905</th>\n",
              "      <td>581587</td>\n",
              "      <td>22899</td>\n",
              "      <td>CHILDREN'S APRON DOLLY GIRL</td>\n",
              "      <td>6</td>\n",
              "      <td>12/9/2011 12:50</td>\n",
              "      <td>2.10</td>\n",
              "      <td>12680.0</td>\n",
              "      <td>France</td>\n",
              "    </tr>\n",
              "    <tr>\n",
              "      <th>541906</th>\n",
              "      <td>581587</td>\n",
              "      <td>23254</td>\n",
              "      <td>CHILDRENS CUTLERY DOLLY GIRL</td>\n",
              "      <td>4</td>\n",
              "      <td>12/9/2011 12:50</td>\n",
              "      <td>4.15</td>\n",
              "      <td>12680.0</td>\n",
              "      <td>France</td>\n",
              "    </tr>\n",
              "    <tr>\n",
              "      <th>541907</th>\n",
              "      <td>581587</td>\n",
              "      <td>23255</td>\n",
              "      <td>CHILDRENS CUTLERY CIRCUS PARADE</td>\n",
              "      <td>4</td>\n",
              "      <td>12/9/2011 12:50</td>\n",
              "      <td>4.15</td>\n",
              "      <td>12680.0</td>\n",
              "      <td>France</td>\n",
              "    </tr>\n",
              "    <tr>\n",
              "      <th>541908</th>\n",
              "      <td>581587</td>\n",
              "      <td>22138</td>\n",
              "      <td>BAKING SET 9 PIECE RETROSPOT</td>\n",
              "      <td>3</td>\n",
              "      <td>12/9/2011 12:50</td>\n",
              "      <td>4.95</td>\n",
              "      <td>12680.0</td>\n",
              "      <td>France</td>\n",
              "    </tr>\n",
              "  </tbody>\n",
              "</table>\n",
              "<p>536641 rows × 8 columns</p>\n",
              "</div>"
            ]
          },
          "execution_count": 5,
          "metadata": {},
          "output_type": "execute_result"
        }
      ],
      "execution_count": 5
    },
    {
      "cell_type": "markdown",
      "source": "**3. Данные содержат в себе записи как об успешных транзакциях, так и об отмененных. Если пользователь отменил заказ, в начале номера транзакции (InvoiceNo) ставится C (canceled).**\n\n**Сколько всего транзакций отменили пользователи? Каждый отдельный тип продукта считайте за отдельную транзакцию - уникальные номера считать не надо.**\n\nПрежде чем начать, попробуйте метод retail.InvoiceNo.str[0]\n\nДалее используйте метод .unique()\n\nИ сделайте выбоку по retail.loc[retail.InvoiceNo.str[0] == 'C'].shape",
      "metadata": {}
    },
    {
      "cell_type": "code",
      "source": "# Получаем все строки, где InvoiceNo начинается с 'C'\ncanceled_transactions = retail.loc[retail['InvoiceNo'].str[0] == 'C']\n\n# Количество отмененных транзакций (строк)\ncanceled_count = canceled_transactions.shape[0]\ncanceled_count",
      "metadata": {
        "ExecuteTime": {
          "end_time": "2025-05-18T17:42:47.249596Z",
          "start_time": "2025-05-18T17:42:47.097376Z"
        }
      },
      "outputs": [
        {
          "data": {
            "text/plain": [
              "9251"
            ]
          },
          "execution_count": 7,
          "metadata": {},
          "output_type": "execute_result"
        }
      ],
      "execution_count": 7
    },
    {
      "cell_type": "markdown",
      "source": "**5.Посчитайте число заказов для каждого пользователя (CustomerID) из Германии (Germany). Оставьте только тех, кто совершил более N транзакций (InvoiceNo), где N – 80% процентиль. Запишите полученные id пользователей в germany_top (не весь датафрейм, только id).**\n\nОтфильтрованные данные записаны в retail. Идентификатор заказа – InvoiceNo. Для каждого заказа в данных может встречаться более 1 строки.\n\n**Подсказка:**\n1. Начните с выборки retail.Country == 'Germany', группировки по 'CustomerID' и агрегации total_invoices=('InvoiceNo', 'nunique')\n2. Далее из полученой выборки из предыдущего шага выподните метод: название_выборки.столбец.quantile(0.8)\n3. Запишите полученные id пользователей в germany_top",
      "metadata": {}
    },
    {
      "cell_type": "code",
      "source": "# Фильтр по Германии\ngermany_data = retail[retail['Country'] == 'Germany']\n\n# Группировка с подсчётом уникальных\ncustomer_stats = germany_data.groupby('CustomerID').agg(\n    total_invoices=('InvoiceNo', 'nunique')\n).reset_index()\n\n# 80 процентиль\nn_threshold = customer_stats['total_invoices'].quantile(0.8)\n\n# больше N транзакций\ntop_customers = customer_stats[customer_stats['total_invoices'] > n_threshold]\n\n# id найденных пользователей\ngermany_top = top_customers['CustomerID'].tolist()\ngermany_top",
      "metadata": {
        "ExecuteTime": {
          "end_time": "2025-05-18T18:02:32.037437Z",
          "start_time": "2025-05-18T18:02:32.004063Z"
        }
      },
      "outputs": [
        {
          "data": {
            "text/plain": [
              "[12471.0,\n",
              " 12472.0,\n",
              " 12474.0,\n",
              " 12476.0,\n",
              " 12481.0,\n",
              " 12500.0,\n",
              " 12569.0,\n",
              " 12600.0,\n",
              " 12619.0,\n",
              " 12621.0,\n",
              " 12626.0,\n",
              " 12647.0,\n",
              " 12662.0,\n",
              " 12705.0,\n",
              " 12708.0,\n",
              " 12709.0,\n",
              " 12712.0,\n",
              " 12720.0]"
            ]
          },
          "execution_count": 10,
          "metadata": {},
          "output_type": "execute_result"
        }
      ],
      "execution_count": 10
    },
    {
      "cell_type": "markdown",
      "source": "**6. Используя объект с id пользователей (germany_top), полученный на предыдущем шаге, отфильтруйте наблюдения и оставьте в данных записи только по интересующим нас юзерам. Результирующий датафрейм запишите в top_retail_germany.**\n\nДатафрейм записан в retail, нужные id пользователей – в germany_top.\n\n**Подсказка**\nПопробуйте использовать top_retail_germany = retail.loc[retail.CustomerID.isin(germany_top)]",
      "metadata": {}
    },
    {
      "cell_type": "code",
      "source": "top_retail_germany = retail.loc[retail['CustomerID'].isin(germany_top)]\ntop_retail_germany",
      "metadata": {
        "ExecuteTime": {
          "end_time": "2025-05-18T18:04:25.357526Z",
          "start_time": "2025-05-18T18:04:25.306977Z"
        }
      },
      "outputs": [
        {
          "data": {
            "text/plain": [
              "       InvoiceNo StockCode                          Description  Quantity  \\\n",
              "1109      536527     22809              SET OF 6 T-LIGHTS SANTA         6   \n",
              "1110      536527     84347  ROTATING SILVER ANGELS T-LIGHT HLDR         6   \n",
              "1111      536527     84945   MULTI COLOUR SILVER T-LIGHT HOLDER        12   \n",
              "1112      536527     22242        5 HOOK HANGER MAGIC TOADSTOOL        12   \n",
              "1113      536527     22244           3 HOOK HANGER MAGIC GARDEN        12   \n",
              "...          ...       ...                                  ...       ...   \n",
              "541726    581570     22139     RETROSPOT TEA SET CERAMIC 11 PC          3   \n",
              "541727    581570     23077                  DOUGHNUT LIP GLOSS         20   \n",
              "541728    581570     20750             RED RETROSPOT MINI CASES         2   \n",
              "541729    581570     22505            MEMO BOARD COTTAGE DESIGN         4   \n",
              "541730    581570      POST                              POSTAGE         1   \n",
              "\n",
              "            InvoiceDate  UnitPrice  CustomerID  Country  \n",
              "1109    12/1/2010 13:04       2.95     12662.0  Germany  \n",
              "1110    12/1/2010 13:04       2.55     12662.0  Germany  \n",
              "1111    12/1/2010 13:04       0.85     12662.0  Germany  \n",
              "1112    12/1/2010 13:04       1.65     12662.0  Germany  \n",
              "1113    12/1/2010 13:04       1.95     12662.0  Germany  \n",
              "...                 ...        ...         ...      ...  \n",
              "541726  12/9/2011 11:59       4.95     12662.0  Germany  \n",
              "541727  12/9/2011 11:59       1.25     12662.0  Germany  \n",
              "541728  12/9/2011 11:59       7.95     12662.0  Germany  \n",
              "541729  12/9/2011 11:59       4.95     12662.0  Germany  \n",
              "541730  12/9/2011 11:59      18.00     12662.0  Germany  \n",
              "\n",
              "[4693 rows x 8 columns]"
            ],
            "text/html": [
              "<div>\n",
              "<style scoped>\n",
              "    .dataframe tbody tr th:only-of-type {\n",
              "        vertical-align: middle;\n",
              "    }\n",
              "\n",
              "    .dataframe tbody tr th {\n",
              "        vertical-align: top;\n",
              "    }\n",
              "\n",
              "    .dataframe thead th {\n",
              "        text-align: right;\n",
              "    }\n",
              "</style>\n",
              "<table border=\"1\" class=\"dataframe\">\n",
              "  <thead>\n",
              "    <tr style=\"text-align: right;\">\n",
              "      <th></th>\n",
              "      <th>InvoiceNo</th>\n",
              "      <th>StockCode</th>\n",
              "      <th>Description</th>\n",
              "      <th>Quantity</th>\n",
              "      <th>InvoiceDate</th>\n",
              "      <th>UnitPrice</th>\n",
              "      <th>CustomerID</th>\n",
              "      <th>Country</th>\n",
              "    </tr>\n",
              "  </thead>\n",
              "  <tbody>\n",
              "    <tr>\n",
              "      <th>1109</th>\n",
              "      <td>536527</td>\n",
              "      <td>22809</td>\n",
              "      <td>SET OF 6 T-LIGHTS SANTA</td>\n",
              "      <td>6</td>\n",
              "      <td>12/1/2010 13:04</td>\n",
              "      <td>2.95</td>\n",
              "      <td>12662.0</td>\n",
              "      <td>Germany</td>\n",
              "    </tr>\n",
              "    <tr>\n",
              "      <th>1110</th>\n",
              "      <td>536527</td>\n",
              "      <td>84347</td>\n",
              "      <td>ROTATING SILVER ANGELS T-LIGHT HLDR</td>\n",
              "      <td>6</td>\n",
              "      <td>12/1/2010 13:04</td>\n",
              "      <td>2.55</td>\n",
              "      <td>12662.0</td>\n",
              "      <td>Germany</td>\n",
              "    </tr>\n",
              "    <tr>\n",
              "      <th>1111</th>\n",
              "      <td>536527</td>\n",
              "      <td>84945</td>\n",
              "      <td>MULTI COLOUR SILVER T-LIGHT HOLDER</td>\n",
              "      <td>12</td>\n",
              "      <td>12/1/2010 13:04</td>\n",
              "      <td>0.85</td>\n",
              "      <td>12662.0</td>\n",
              "      <td>Germany</td>\n",
              "    </tr>\n",
              "    <tr>\n",
              "      <th>1112</th>\n",
              "      <td>536527</td>\n",
              "      <td>22242</td>\n",
              "      <td>5 HOOK HANGER MAGIC TOADSTOOL</td>\n",
              "      <td>12</td>\n",
              "      <td>12/1/2010 13:04</td>\n",
              "      <td>1.65</td>\n",
              "      <td>12662.0</td>\n",
              "      <td>Germany</td>\n",
              "    </tr>\n",
              "    <tr>\n",
              "      <th>1113</th>\n",
              "      <td>536527</td>\n",
              "      <td>22244</td>\n",
              "      <td>3 HOOK HANGER MAGIC GARDEN</td>\n",
              "      <td>12</td>\n",
              "      <td>12/1/2010 13:04</td>\n",
              "      <td>1.95</td>\n",
              "      <td>12662.0</td>\n",
              "      <td>Germany</td>\n",
              "    </tr>\n",
              "    <tr>\n",
              "      <th>...</th>\n",
              "      <td>...</td>\n",
              "      <td>...</td>\n",
              "      <td>...</td>\n",
              "      <td>...</td>\n",
              "      <td>...</td>\n",
              "      <td>...</td>\n",
              "      <td>...</td>\n",
              "      <td>...</td>\n",
              "    </tr>\n",
              "    <tr>\n",
              "      <th>541726</th>\n",
              "      <td>581570</td>\n",
              "      <td>22139</td>\n",
              "      <td>RETROSPOT TEA SET CERAMIC 11 PC</td>\n",
              "      <td>3</td>\n",
              "      <td>12/9/2011 11:59</td>\n",
              "      <td>4.95</td>\n",
              "      <td>12662.0</td>\n",
              "      <td>Germany</td>\n",
              "    </tr>\n",
              "    <tr>\n",
              "      <th>541727</th>\n",
              "      <td>581570</td>\n",
              "      <td>23077</td>\n",
              "      <td>DOUGHNUT LIP GLOSS</td>\n",
              "      <td>20</td>\n",
              "      <td>12/9/2011 11:59</td>\n",
              "      <td>1.25</td>\n",
              "      <td>12662.0</td>\n",
              "      <td>Germany</td>\n",
              "    </tr>\n",
              "    <tr>\n",
              "      <th>541728</th>\n",
              "      <td>581570</td>\n",
              "      <td>20750</td>\n",
              "      <td>RED RETROSPOT MINI CASES</td>\n",
              "      <td>2</td>\n",
              "      <td>12/9/2011 11:59</td>\n",
              "      <td>7.95</td>\n",
              "      <td>12662.0</td>\n",
              "      <td>Germany</td>\n",
              "    </tr>\n",
              "    <tr>\n",
              "      <th>541729</th>\n",
              "      <td>581570</td>\n",
              "      <td>22505</td>\n",
              "      <td>MEMO BOARD COTTAGE DESIGN</td>\n",
              "      <td>4</td>\n",
              "      <td>12/9/2011 11:59</td>\n",
              "      <td>4.95</td>\n",
              "      <td>12662.0</td>\n",
              "      <td>Germany</td>\n",
              "    </tr>\n",
              "    <tr>\n",
              "      <th>541730</th>\n",
              "      <td>581570</td>\n",
              "      <td>POST</td>\n",
              "      <td>POSTAGE</td>\n",
              "      <td>1</td>\n",
              "      <td>12/9/2011 11:59</td>\n",
              "      <td>18.00</td>\n",
              "      <td>12662.0</td>\n",
              "      <td>Germany</td>\n",
              "    </tr>\n",
              "  </tbody>\n",
              "</table>\n",
              "<p>4693 rows × 8 columns</p>\n",
              "</div>"
            ]
          },
          "execution_count": 11,
          "metadata": {},
          "output_type": "execute_result"
        }
      ],
      "execution_count": 11
    },
    {
      "cell_type": "markdown",
      "source": "**7. Сгруппируйте top_retail_germany по коду товара (StockCode). Какой из продуктов добавляли в корзину чаще всего, кроме POST?** \n\nNote: одним заказом считается единовременная покупка любого количества товара, т.е. без учета Quantity.",
      "metadata": {}
    },
    {
      "cell_type": "code",
      "source": "# Убрать post с группировкой по Stock\nproduct_freq = (\n    top_retail_germany[top_retail_germany['StockCode'] != 'POST']\n    .groupby('StockCode')\n    .agg(total_orders=('InvoiceNo', 'nunique'))\n    .sort_values(by='total_orders', ascending=False)\n)\n\n# Популярный товар\nmost_common_product = product_freq.index[0]\nmost_common_count = product_freq.iloc[0]['total_orders']\n\nprint(f\"Товар {most_common_product} добавлен в корзину {most_common_count} раз(а)\")",
      "metadata": {
        "ExecuteTime": {
          "end_time": "2025-05-18T18:08:13.952359Z",
          "start_time": "2025-05-18T18:08:13.939723Z"
        }
      },
      "outputs": [
        {
          "name": "stdout",
          "output_type": "stream",
          "text": "Товар 22326 добавляли в корзину 62 раз(а)\n"
        }
      ],
      "execution_count": 12
    },
    {
      "cell_type": "markdown",
      "source": "**8. Вернемся к анализу полного датасета retail. Создайте колонку Revenue с суммой покупки, используя колонки Quantity и UnitPrice.**\n\nОтфильтрованные данные записаны в retail.\n\n**Подсказка**\nretail['новый_столбец'] = retail.старый_столбец_1 * retail.старый_столбец_2",
      "metadata": {}
    },
    {
      "cell_type": "code",
      "source": "# Profit = кол-во * цена)\nretail['Revenue'] = retail['Quantity'] * retail['UnitPrice']\nretail['Revenue']",
      "metadata": {
        "ExecuteTime": {
          "end_time": "2025-05-18T18:11:32.332247Z",
          "start_time": "2025-05-18T18:11:32.321770Z"
        }
      },
      "outputs": [
        {
          "data": {
            "text/plain": [
              "0         15.30\n",
              "1         20.34\n",
              "2         22.00\n",
              "3         20.34\n",
              "4         20.34\n",
              "          ...  \n",
              "541904    10.20\n",
              "541905    12.60\n",
              "541906    16.60\n",
              "541907    16.60\n",
              "541908    14.85\n",
              "Name: Revenue, Length: 541909, dtype: float64"
            ]
          },
          "execution_count": 15,
          "metadata": {},
          "output_type": "execute_result"
        }
      ],
      "execution_count": 15
    }
  ]
}